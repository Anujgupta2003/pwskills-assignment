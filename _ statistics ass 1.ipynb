{
 "cells": [
  {
   "cell_type": "code",
   "execution_count": null,
   "id": "55831fa3-9a2f-4963-8cee-2f9fa468d918",
   "metadata": {},
   "outputs": [],
   "source": [
    "Q1  Is the science of collecting,organizing and analyzing data."
   ]
  },
  {
   "cell_type": "markdown",
   "id": "8cb6b4bf-21ec-48a3-8796-ee081ed9ecc2",
   "metadata": {},
   "source": [
    "Q2  There are two types of statistics descriptive and inferential statistics.\n",
    "    Example of descriptive are to find mean,mode,median from the given data.\n",
    "    Example of inferential are regression analysis,confidence range and hypothesis testing."
   ]
  },
  {
   "cell_type": "raw",
   "id": "04de1b4b-daa7-4ca6-a9f1-b004b3a4d7cd",
   "metadata": {},
   "source": [
    "Q3  There are two types of data quantitative and  qualitative data.\n",
    "    In quantitative data we have discrete and continous data.\n",
    "    In qualitative we have nominal and ordinal data.\n",
    "    Example of quantitative are number of childrens.\n",
    "    Example of qualitative are gender,blood group,customer feedback.\n",
    "    "
   ]
  },
  {
   "cell_type": "markdown",
   "id": "0ce23416-c6dd-4897-b347-e186e06c7f1a",
   "metadata": {},
   "source": [
    "Q4  (1)qualitative \n",
    "    (2)qualitative \n",
    "    (3)quantitative\n",
    "    (4)quantitative"
   ]
  },
  {
   "cell_type": "markdown",
   "id": "e3044eac-381a-42e6-b3cf-a470bd8ce1e1",
   "metadata": {},
   "source": [
    "Q5  Nominal scale data,ordinal scale data,internal scale data,ratio scale data.\n",
    "    "
   ]
  },
  {
   "cell_type": "markdown",
   "id": "eb3dc7e7-4542-48ba-a3a2-d994967ddb2f",
   "metadata": {},
   "source": [
    "Q6  The level of measurement determine the type of statistical analysis that can be conducted therfore the type of conclusions     the can be drawn from the research.\n",
    "    example is : an interval level of measurement could be the measurement of anxiety in a student between the score of 10 and    11."
   ]
  },
  {
   "cell_type": "markdown",
   "id": "1dc1acfd-868e-4cbf-9bf2-d71f157ef9e1",
   "metadata": {},
   "source": [
    "Q7  In nominal scale data qualitative is used ,order does not matter.\n",
    "    In ordinal scale data ranking is important,order matter,difference cannot be measured."
   ]
  },
  {
   "cell_type": "code",
   "execution_count": null,
   "id": "25abd666-cea2-48fe-9e74-73449270e2f4",
   "metadata": {},
   "outputs": [],
   "source": [
    "Q8  Histogram."
   ]
  },
  {
   "cell_type": "markdown",
   "id": "cd86eeda-a669-4c94-a491-f4255741a105",
   "metadata": {},
   "source": [
    "Q9  In descriptive it consist of organizing and summarizing data.\n",
    "    In inferential it consist of using data you have measure to form conclusion.\n",
    "    Example of descriptive is mean,mode,median.\n",
    "    Examle of inferential is population and sample data."
   ]
  },
  {
   "cell_type": "markdown",
   "id": "579eee15-4030-484b-b884-8687f12708fe",
   "metadata": {},
   "source": [
    "Q10  In central tendency we use mean,mode,median.\n",
    "     In variability we use variance and standard daviation."
   ]
  }
 ],
 "metadata": {
  "kernelspec": {
   "display_name": "Python 3 (ipykernel)",
   "language": "python",
   "name": "python3"
  },
  "language_info": {
   "codemirror_mode": {
    "name": "ipython",
    "version": 3
   },
   "file_extension": ".py",
   "mimetype": "text/x-python",
   "name": "python",
   "nbconvert_exporter": "python",
   "pygments_lexer": "ipython3",
   "version": "3.10.8"
  }
 },
 "nbformat": 4,
 "nbformat_minor": 5
}
